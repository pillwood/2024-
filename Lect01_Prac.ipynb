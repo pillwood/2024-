{
 "cells": [
  {
   "cell_type": "code",
   "execution_count": 1,
   "id": "56b1b081-c60c-41b5-8b38-7ed13dc87f39",
   "metadata": {
    "tags": []
   },
   "outputs": [],
   "source": [
    "import numpy as np"
   ]
  },
  {
   "cell_type": "markdown",
   "id": "f0b673bc-7c6b-4794-bfa0-de193c1bf995",
   "metadata": {
    "tags": []
   },
   "source": [
    "# List"
   ]
  },
  {
   "cell_type": "code",
   "execution_count": 4,
   "id": "8b513ed4-189f-4807-9136-0938f911f355",
   "metadata": {
    "tags": []
   },
   "outputs": [
    {
     "name": "stdout",
     "output_type": "stream",
     "text": [
      "[1 2 3]\n"
     ]
    },
    {
     "data": {
      "text/plain": [
       "array([1, 2, 3])"
      ]
     },
     "execution_count": 4,
     "metadata": {},
     "output_type": "execute_result"
    }
   ],
   "source": [
    "a = np.array([1, 2, 3])\n",
    "print(a)\n",
    "a"
   ]
  },
  {
   "cell_type": "code",
   "execution_count": 7,
   "id": "6e5b0e01-705e-4fce-9bb1-e935b33967c6",
   "metadata": {
    "tags": []
   },
   "outputs": [
    {
     "name": "stdout",
     "output_type": "stream",
     "text": [
      "Type(A)    :  <class 'list'>\n",
      "Type(A[0]) :  <class 'int'>\n",
      "Type(A[1]) :  <class 'str'>\n"
     ]
    }
   ],
   "source": [
    "A = [1, 'b', 'c']\n",
    "print(\"Type(A)    : \",type(A))\n",
    "print(\"Type(A[0]) : \",type(A[0]))\n",
    "print(\"Type(A[1]) : \",type(A[1]))"
   ]
  },
  {
   "cell_type": "code",
   "execution_count": 8,
   "id": "13d5474a-246c-468b-8183-a814e472ea2e",
   "metadata": {
    "tags": []
   },
   "outputs": [],
   "source": [
    "B = [10,20,30,40,50,60]"
   ]
  },
  {
   "cell_type": "code",
   "execution_count": 12,
   "id": "454db47f-7de8-4fa1-bf61-ac41cc9b8820",
   "metadata": {
    "tags": []
   },
   "outputs": [
    {
     "name": "stdout",
     "output_type": "stream",
     "text": [
      "B[2]   : 30\n",
      "B[3:6] : [40, 50, 60]\n",
      "\n",
      "Type of B[3:6] :  <class 'list'>\n"
     ]
    }
   ],
   "source": [
    "print(\"B[2]   :\",B[2])\n",
    "print(\"B[3:6] :\",B[3:6])\n",
    "print(\"\\nType of B[3:6] : \",type(B[3:6]))"
   ]
  },
  {
   "cell_type": "code",
   "execution_count": 13,
   "id": "a24e735d-77fb-469b-87e0-dcbbd8755f28",
   "metadata": {
    "tags": []
   },
   "outputs": [],
   "source": [
    "BinB = [1, 2, 'c', [1, 3, 4]]"
   ]
  },
  {
   "cell_type": "code",
   "execution_count": 14,
   "id": "59ddbbc6-a25e-4f3d-9ce2-19fa800e157a",
   "metadata": {
    "tags": []
   },
   "outputs": [
    {
     "data": {
      "text/plain": [
       "list"
      ]
     },
     "execution_count": 14,
     "metadata": {},
     "output_type": "execute_result"
    }
   ],
   "source": [
    "type(BinB[3])"
   ]
  },
  {
   "cell_type": "code",
   "execution_count": 16,
   "id": "7cc8afca-8287-4334-bbab-d37fc2ee44a7",
   "metadata": {
    "tags": []
   },
   "outputs": [
    {
     "data": {
      "text/plain": [
       "3"
      ]
     },
     "execution_count": 16,
     "metadata": {},
     "output_type": "execute_result"
    }
   ],
   "source": [
    "BinB[3][1]"
   ]
  },
  {
   "cell_type": "code",
   "execution_count": 18,
   "id": "a6d0ce8a-d2c3-4d29-a5b7-c5485af82eec",
   "metadata": {
    "tags": []
   },
   "outputs": [
    {
     "data": {
      "text/plain": [
       "[[[10, 20, 30, 40, 50, 60], [10, 20, 30, 40, 50, 60]],\n",
       " [1, 2, 'c', [1, 3, 4]],\n",
       " [[10, 20, 30, 40, 50, 60], [1, 2, 'c', [1, 3, 4]]]]"
      ]
     },
     "execution_count": 18,
     "metadata": {},
     "output_type": "execute_result"
    }
   ],
   "source": [
    "BinBinB = [[B,B],BinB,[B,BinB]]\n",
    "BinBinB"
   ]
  },
  {
   "cell_type": "code",
   "execution_count": 19,
   "id": "b0c548a7-e683-4bd3-9d5a-c3452086ecc6",
   "metadata": {
    "tags": []
   },
   "outputs": [
    {
     "data": {
      "text/plain": [
       "75"
      ]
     },
     "execution_count": 19,
     "metadata": {},
     "output_type": "execute_result"
    }
   ],
   "source": [
    "C = [[1,2,3,4], [3,[12,4,5,65],'c', 10], 'a']\n",
    "C[1][1][3]+10"
   ]
  },
  {
   "cell_type": "markdown",
   "id": "10486b1e-a7dd-47b7-8d94-e323212b1f60",
   "metadata": {
    "tags": []
   },
   "source": [
    "# Vector"
   ]
  },
  {
   "cell_type": "markdown",
   "id": "9045fb4a-5ebc-41f0-962b-33391b485cd7",
   "metadata": {},
   "source": [
    "(중요) Python에서의 Vector \n",
    "\n",
    "* 1-D vector\n",
    "    - row vector만 표현 가능\n",
    "* 2-D vector\n",
    "    - row, column vector 모두 표현 가능\n",
    "* 어떤 방식을 사용해야하는가?\n",
    "* vector 또는 행렬에 적용하는 함수에 return 방식을 알고 있어야함!!"
   ]
  },
  {
   "cell_type": "code",
   "execution_count": 38,
   "id": "0a178458-b07c-4a7b-b4c3-c32315f8d603",
   "metadata": {
    "tags": []
   },
   "outputs": [
    {
     "data": {
      "text/plain": [
       "array([1, 2, 3])"
      ]
     },
     "execution_count": 38,
     "metadata": {},
     "output_type": "execute_result"
    }
   ],
   "source": [
    "#2by3 Vector a\n",
    "X1 = np.array([1,2,3])\n",
    "X1"
   ]
  },
  {
   "cell_type": "code",
   "execution_count": 50,
   "id": "d789c264-cfe9-4bbc-9ac8-1be660e6dc34",
   "metadata": {
    "tags": []
   },
   "outputs": [
    {
     "data": {
      "text/plain": [
       "array([[6, 5, 7],\n",
       "       [1, 2, 3],\n",
       "       [7, 8, 9]])"
      ]
     },
     "execution_count": 50,
     "metadata": {},
     "output_type": "execute_result"
    }
   ],
   "source": [
    "X2 = np.array([[6,5,7],X1,[7,8,9]])\n",
    "X2"
   ]
  },
  {
   "cell_type": "code",
   "execution_count": 51,
   "id": "72ea8e85-9921-4846-9394-f7bc2418fe1e",
   "metadata": {
    "tags": []
   },
   "outputs": [
    {
     "data": {
      "text/plain": [
       "array([[[1., 2., 3.],\n",
       "        [4., 5., 6.],\n",
       "        [7., 8., 9.]],\n",
       "\n",
       "       [[6., 5., 7.],\n",
       "        [1., 2., 3.],\n",
       "        [7., 8., 9.]]])"
      ]
     },
     "execution_count": 51,
     "metadata": {},
     "output_type": "execute_result"
    }
   ],
   "source": [
    "X3 = np.array([[[1.,2.,3.],[4.,5.,6.],[7.,8.,9.]],X2])\n",
    "X3"
   ]
  },
  {
   "cell_type": "code",
   "execution_count": 64,
   "id": "0863eeda-48f8-4ac8-ab0d-ac70044e4f65",
   "metadata": {
    "tags": []
   },
   "outputs": [],
   "source": [
    "X4=np.array([[[[[[[[[[[[[[[1]]]]]]]]]]]]]]])"
   ]
  },
  {
   "cell_type": "code",
   "execution_count": 65,
   "id": "8954a2c9-1f23-4d49-be4d-4ef85f881143",
   "metadata": {
    "tags": []
   },
   "outputs": [
    {
     "name": "stdout",
     "output_type": "stream",
     "text": [
      "Array X1 : \n",
      " shape :  (3,) \n",
      " [1 2 3]\n",
      "Dimension of X1 :  1\n",
      "type of X1 :  <class 'numpy.ndarray'> with int32\n",
      "\n",
      "\n",
      "Array X2 : \n",
      " shape :  (3, 3) \n",
      " [[6 5 7]\n",
      " [1 2 3]\n",
      " [7 8 9]]\n",
      "Dimension of X2 :  2\n",
      "type of X2 :  <class 'numpy.ndarray'> with int32\n",
      "\n",
      "\n",
      "Array X3 : \n",
      " shape :  (2, 3, 3) \n",
      " [[[1. 2. 3.]\n",
      "  [4. 5. 6.]\n",
      "  [7. 8. 9.]]\n",
      "\n",
      " [[6. 5. 7.]\n",
      "  [1. 2. 3.]\n",
      "  [7. 8. 9.]]]\n",
      "Dimension of X3 :  3\n",
      "type of X3 :  <class 'numpy.ndarray'> with float64\n",
      "\n",
      "\n",
      "Array X3 : \n",
      " shape :  (1, 1, 1, 1, 1, 1, 1, 1, 1, 1, 1, 1, 1, 1, 1) \n",
      " [[[[[[[[[[[[[[[1]]]]]]]]]]]]]]]\n",
      "Dimension of X3 :  15\n",
      "type of X3 :  <class 'numpy.ndarray'> with int32\n"
     ]
    }
   ],
   "source": [
    "\n",
    "print(\"Array X1 : \\n shape : \", X1.shape ,\"\\n\", X1)\n",
    "print(\"Dimension of X1 : \", X1.ndim)\n",
    "print(\"type of X1 : \", type(X1), \"with\" ,X1.dtype)\n",
    "\n",
    "print(\"\\n\\nArray X2 : \\n shape : \", X2.shape ,\"\\n\", X2)\n",
    "print(\"Dimension of X2 : \", X2.ndim)\n",
    "print(\"type of X2 : \", type(X2), \"with\" ,X2.dtype)\n",
    "\n",
    "print(\"\\n\\nArray X3 : \\n shape : \", X3.shape ,\"\\n\", X3)\n",
    "print(\"Dimension of X3 : \", X3.ndim)\n",
    "print(\"type of X3 : \", type(X3), \"with\" ,X3.dtype)\n",
    "\n",
    "print(\"\\n\\nArray X3 : \\n shape : \", X4.shape ,\"\\n\", X4)\n",
    "print(\"Dimension of X3 : \", X4.ndim)\n",
    "print(\"type of X3 : \", type(X4), \"with\" ,X4.dtype)"
   ]
  },
  {
   "cell_type": "markdown",
   "id": "d5367102-d2d4-4497-a495-fdcbd20edaeb",
   "metadata": {
    "tags": []
   },
   "source": [
    "## Transpose"
   ]
  },
  {
   "cell_type": "code",
   "execution_count": 72,
   "id": "f901feb3-e851-49d1-a4b7-82c2ba3fb351",
   "metadata": {
    "tags": []
   },
   "outputs": [
    {
     "name": "stdout",
     "output_type": "stream",
     "text": [
      "X   : \n",
      " [[1. 2. 3.]\n",
      " [4. 5. 6.]] \n",
      "shape :  (2, 3)\n",
      "X.T : \n",
      " [[1. 4.]\n",
      " [2. 5.]\n",
      " [3. 6.]] \n",
      "shape :  (3, 2)\n"
     ]
    }
   ],
   "source": [
    "X = np.array([[1., 2., 3.],[4., 5., 6.]])\n",
    "print(\"X   : \\n\", X  ,\"\\nshape : \",X.shape)\n",
    "print(\"X.T : \\n\", X.T,\"\\nshape : \",X.T.shape)"
   ]
  },
  {
   "cell_type": "code",
   "execution_count": 68,
   "id": "2fe9b3b2-152f-4fd0-8a41-66a17ce4c52c",
   "metadata": {
    "tags": []
   },
   "outputs": [
    {
     "name": "stdout",
     "output_type": "stream",
     "text": [
      "Xt   :  [1 2 3]\n",
      "Xt.T :  [1 2 3]\n"
     ]
    }
   ],
   "source": [
    "Xt = np.array([1,2,3])\n",
    "print(\"Xt   : \",Xt)\n",
    "print(\"Xt.T : \",Xt.T)"
   ]
  },
  {
   "cell_type": "markdown",
   "id": "ba60a307-7ee6-4781-bce9-a4323efd14e8",
   "metadata": {
    "tags": []
   },
   "source": [
    "## Reshape"
   ]
  },
  {
   "cell_type": "code",
   "execution_count": 87,
   "id": "9aee1b73-9c82-4833-b80f-20fd91fd712f",
   "metadata": {
    "tags": []
   },
   "outputs": [
    {
     "data": {
      "text/plain": [
       "array([[78, 32, 51, 98, 15, 23, 56, 60],\n",
       "       [67, 64, 97, 67, 11, 51, 56, 10],\n",
       "       [38,  4, 86, 20, 13, 59, 98, 13]])"
      ]
     },
     "execution_count": 87,
     "metadata": {},
     "output_type": "execute_result"
    }
   ],
   "source": [
    "X = np.random.randint(1,100,(3,8))\n",
    "X"
   ]
  },
  {
   "cell_type": "code",
   "execution_count": 88,
   "id": "7585e1a9-000e-4837-ba45-f3b50333de97",
   "metadata": {
    "tags": []
   },
   "outputs": [
    {
     "data": {
      "text/plain": [
       "array([[78, 32, 51, 98, 15, 23, 56, 60, 67, 64, 97, 67],\n",
       "       [11, 51, 56, 10, 38,  4, 86, 20, 13, 59, 98, 13]])"
      ]
     },
     "execution_count": 88,
     "metadata": {},
     "output_type": "execute_result"
    }
   ],
   "source": [
    "X.reshape(2,12)"
   ]
  },
  {
   "cell_type": "code",
   "execution_count": 90,
   "id": "08363729-18b5-45b0-b715-de00c51828e7",
   "metadata": {
    "tags": []
   },
   "outputs": [
    {
     "data": {
      "text/plain": [
       "array([[78, 32, 51, 98],\n",
       "       [15, 23, 56, 60],\n",
       "       [67, 64, 97, 67],\n",
       "       [11, 51, 56, 10],\n",
       "       [38,  4, 86, 20],\n",
       "       [13, 59, 98, 13]])"
      ]
     },
     "execution_count": 90,
     "metadata": {},
     "output_type": "execute_result"
    }
   ],
   "source": [
    "X.reshape(6,-1)"
   ]
  },
  {
   "cell_type": "markdown",
   "id": "98f8b86d-6312-4d7d-afe5-e4aa9b95b621",
   "metadata": {},
   "source": [
    "reshape 사용시 1차원 배열에 전치 안되는거 해결 가능."
   ]
  },
  {
   "cell_type": "code",
   "execution_count": 97,
   "id": "665bd248-b9d5-4cd7-a293-083401e2664b",
   "metadata": {
    "tags": []
   },
   "outputs": [
    {
     "name": "stdout",
     "output_type": "stream",
     "text": [
      "X1dim   : \n",
      " [1 2 3]\n",
      "\n",
      "X1dim.T : \n",
      " [1 2 3]\n",
      "\n",
      "Reshape : \n",
      " [[1]\n",
      " [2]\n",
      " [3]]\n"
     ]
    }
   ],
   "source": [
    "X1dim = np.array([1,2,3])\n",
    "print(\"X1dim   : \\n\", X1dim)\n",
    "print(\"\\nX1dim.T : \\n\", X1dim.T)\n",
    "print(\"\\nReshape : \\n\", X1dim.reshape(-1,1))"
   ]
  },
  {
   "cell_type": "markdown",
   "id": "84d8c07f-ddc7-42f5-ac77-b6082979394e",
   "metadata": {},
   "source": [
    "* 다음 두개의 $x^{(i)}\\in\\mathbb{R}^3$ vector를 고려합시다:\n",
    "\\begin{align*}\n",
    "x^{(1)} = \\begin{bmatrix}\n",
    "5\\\\\n",
    "6\\\\\n",
    "8\n",
    "\\end{bmatrix}, \\quad\n",
    "x^{(2)} = \\begin{bmatrix}\n",
    "6\\\\\n",
    "7\\\\\n",
    "5\n",
    "\\end{bmatrix}\n",
    "\\end{align*}"
   ]
  },
  {
   "cell_type": "code",
   "execution_count": 100,
   "id": "61f88373-b01a-4af0-97d6-52f1b6cd1e42",
   "metadata": {
    "tags": []
   },
   "outputs": [
    {
     "name": "stdout",
     "output_type": "stream",
     "text": [
      "x1 : \n",
      " [[5]\n",
      " [6]\n",
      " [7]]\n",
      "x2 : \n",
      " [[6]\n",
      " [7]\n",
      " [5]]\n"
     ]
    }
   ],
   "source": [
    "x1 = np.array([[5], [6], [7]])\n",
    "x2 = np.array([[6], [7], [5]])\n",
    "print('x1 : \\n', x1)\n",
    "print('x2 : \\n', x2)"
   ]
  },
  {
   "cell_type": "markdown",
   "id": "c4f2e032-eda4-4bd6-8a83-db817d8ec044",
   "metadata": {
    "tags": []
   },
   "source": [
    "## Vstack and Hstack"
   ]
  },
  {
   "cell_type": "markdown",
   "id": "daf30e38-5c21-4f06-8aaa-958c8c015989",
   "metadata": {},
   "source": [
    "* $X$ 행렬의 각 row (행)을 $(x^{(i)})^T\\in \\mathbb{R}^{1\\times 3}$이라고 하겠습니다. 즉, \n",
    "\\begin{align*}\n",
    "X = \\begin{bmatrix}\n",
    "(x^{(1)})^T \\\\\n",
    "(x^{(2)})^T \\\\\n",
    "\\end{bmatrix}\n",
    "\\end{align*}\n",
    "과 같이 표현 됩니다. "
   ]
  },
  {
   "cell_type": "code",
   "execution_count": 101,
   "id": "0323c47b-f955-4c6a-8382-0910edc9e99e",
   "metadata": {
    "tags": []
   },
   "outputs": [
    {
     "name": "stdout",
     "output_type": "stream",
     "text": [
      "x1T :  [[5 6 7]]\n",
      "x2T :  [[6 7 5]]\n"
     ]
    }
   ],
   "source": [
    "x1T = x1.T\n",
    "x2T = x2.T\n",
    "print('x1T : ', x1T)\n",
    "print('x2T : ', x2T)"
   ]
  },
  {
   "cell_type": "code",
   "execution_count": 102,
   "id": "1e1bcca3-88ca-4949-88bd-a93590b7e1e4",
   "metadata": {
    "tags": []
   },
   "outputs": [],
   "source": [
    "X = np.vstack([x1.T, x2.T])"
   ]
  },
  {
   "cell_type": "markdown",
   "id": "b007a761-d4e3-4506-bea7-03bcc9c150f6",
   "metadata": {},
   "source": [
    "* 즉 $X\\in \\mathbb{R}^{2\\times 3}$ 는 다음과 같죠:\n",
    "\\begin{align*}\n",
    "X = \\begin{bmatrix}\n",
    "5 & 6 & 8 \\\\\n",
    "6 & 7 & 4 \\\\\n",
    "\\end{bmatrix}\n",
    "\\end{align*}"
   ]
  },
  {
   "cell_type": "code",
   "execution_count": 103,
   "id": "d2b97e79-2fae-4807-b846-77b50a38fb8c",
   "metadata": {
    "tags": []
   },
   "outputs": [
    {
     "data": {
      "text/plain": [
       "array([[5, 6, 7],\n",
       "       [6, 7, 5]])"
      ]
     },
     "execution_count": 103,
     "metadata": {},
     "output_type": "execute_result"
    }
   ],
   "source": [
    "X"
   ]
  },
  {
   "cell_type": "code",
   "execution_count": 108,
   "id": "9283a739-51e2-4e41-96fb-46e54119081b",
   "metadata": {
    "tags": []
   },
   "outputs": [
    {
     "data": {
      "text/plain": [
       "array([[5, 6, 7],\n",
       "       [6, 7, 5]])"
      ]
     },
     "execution_count": 108,
     "metadata": {},
     "output_type": "execute_result"
    }
   ],
   "source": [
    "Xh = np.hstack([x1, x2])\n",
    "XhT = Xh.T\n",
    "XhT"
   ]
  },
  {
   "cell_type": "markdown",
   "id": "f28937ad-0381-4afe-a9eb-f04516df8557",
   "metadata": {
    "tags": []
   },
   "source": [
    "# Array 생성 Tip"
   ]
  },
  {
   "cell_type": "code",
   "execution_count": 109,
   "id": "f54cee13-2714-4784-8f3f-a12edcb32837",
   "metadata": {
    "tags": []
   },
   "outputs": [
    {
     "data": {
      "text/plain": [
       "array([[0., 0., 0.]])"
      ]
     },
     "execution_count": 109,
     "metadata": {},
     "output_type": "execute_result"
    }
   ],
   "source": [
    "zvec = np.zeros((1,3))\n",
    "zvec"
   ]
  },
  {
   "cell_type": "code",
   "execution_count": 110,
   "id": "c7216c2f-31be-4684-b03e-f86fac81482e",
   "metadata": {
    "tags": []
   },
   "outputs": [
    {
     "data": {
      "text/plain": [
       "array([[1., 1., 1.]])"
      ]
     },
     "execution_count": 110,
     "metadata": {},
     "output_type": "execute_result"
    }
   ],
   "source": [
    "ovec = np.ones((1,3))\n",
    "ovec"
   ]
  },
  {
   "cell_type": "code",
   "execution_count": 118,
   "id": "09dbefae-5a3a-48db-97c3-c99fd387bf9a",
   "metadata": {
    "tags": []
   },
   "outputs": [
    {
     "data": {
      "text/plain": [
       "array([ 1,  2,  3,  4,  5,  6,  7,  8,  9, 10])"
      ]
     },
     "execution_count": 118,
     "metadata": {},
     "output_type": "execute_result"
    }
   ],
   "source": [
    "np.arange(1,11,1)"
   ]
  },
  {
   "cell_type": "code",
   "execution_count": 117,
   "id": "ee8506f9-5d9d-482d-b039-667f92658151",
   "metadata": {
    "tags": []
   },
   "outputs": [
    {
     "data": {
      "text/plain": [
       "array([ 0,  2,  4,  6,  8, 10])"
      ]
     },
     "execution_count": 117,
     "metadata": {},
     "output_type": "execute_result"
    }
   ],
   "source": [
    "np.arange(0,11,2)"
   ]
  },
  {
   "cell_type": "markdown",
   "id": "810e4b01-4758-4125-8115-df7df3021414",
   "metadata": {},
   "source": [
    "for문 돌릴때 유용"
   ]
  },
  {
   "cell_type": "code",
   "execution_count": 114,
   "id": "9efa1546-346d-469c-9aec-0d2a84436efc",
   "metadata": {
    "tags": []
   },
   "outputs": [
    {
     "data": {
      "text/plain": [
       "array([0., 4.])"
      ]
     },
     "execution_count": 114,
     "metadata": {},
     "output_type": "execute_result"
    }
   ],
   "source": [
    "np.linspace(0,4,2)"
   ]
  },
  {
   "cell_type": "markdown",
   "id": "3fb1b677-2bca-4bbb-8bd8-a148fc05ba26",
   "metadata": {},
   "source": [
    "squeeze는 차원 축소할때 유용."
   ]
  },
  {
   "cell_type": "code",
   "execution_count": 120,
   "id": "40668240-eb9c-4bb5-b1d9-f1c2dc364709",
   "metadata": {
    "tags": []
   },
   "outputs": [
    {
     "data": {
      "text/plain": [
       "array([[[[[[[[[[[[[[[[[1, 2, 3],\n",
       "                      [3, 2, 1]]]]]]]]]]]]]]]]])"
      ]
     },
     "execution_count": 120,
     "metadata": {},
     "output_type": "execute_result"
    }
   ],
   "source": [
    "tra = np.array([[[[[[[[[[[[[[[[[1,2,3],[3,2,1]]]]]]]]]]]]]]]]])\n",
    "tra"
   ]
  },
  {
   "cell_type": "code",
   "execution_count": 122,
   "id": "d073630c-10e5-480e-a9a2-44e378a6a5bc",
   "metadata": {
    "tags": []
   },
   "outputs": [
    {
     "data": {
      "text/plain": [
       "array([[1, 2, 3],\n",
       "       [3, 2, 1]])"
      ]
     },
     "execution_count": 122,
     "metadata": {},
     "output_type": "execute_result"
    }
   ],
   "source": [
    "sqtra = tra.squeeze()\n",
    "sqtra"
   ]
  },
  {
   "cell_type": "code",
   "execution_count": 123,
   "id": "771fff6e-876a-4cb5-8e31-5685cf34c265",
   "metadata": {
    "tags": []
   },
   "outputs": [
    {
     "data": {
      "text/plain": [
       "array([0., 4.])"
      ]
     },
     "execution_count": 123,
     "metadata": {},
     "output_type": "execute_result"
    }
   ],
   "source": [
    "np.linspace(0,4,2)"
   ]
  },
  {
   "cell_type": "markdown",
   "id": "4a5891d8-9efe-4d2b-9667-eae09d8a6582",
   "metadata": {
    "tags": []
   },
   "source": [
    "## Random"
   ]
  },
  {
   "cell_type": "code",
   "execution_count": 126,
   "id": "375a25f3-85f3-4907-8f10-f6b7c0488362",
   "metadata": {
    "tags": []
   },
   "outputs": [
    {
     "data": {
      "text/plain": [
       "array([[ 0.93890769,  0.8277666 , -0.01610096,  0.06553582,  0.15980802,\n",
       "         0.74646538, -0.85713383, -0.38915737,  0.47950255, -0.77087182]])"
      ]
     },
     "execution_count": 126,
     "metadata": {},
     "output_type": "execute_result"
    }
   ],
   "source": [
    "#랜덤\n",
    "d = 2*np.random.rand(1,10)-1\n",
    "d"
   ]
  },
  {
   "cell_type": "code",
   "execution_count": 127,
   "id": "8c9f87d7-bea5-4fed-a8aa-398fc55bdffc",
   "metadata": {
    "tags": []
   },
   "outputs": [
    {
     "data": {
      "text/plain": [
       "array([[2.69042574, 0.29703581, 2.87454523, 5.29988149],\n",
       "       [3.82144746, 4.13032006, 1.50243267, 1.96421948],\n",
       "       [1.34991094, 2.27002926, 0.86646009, 2.41728885]])"
      ]
     },
     "execution_count": 127,
     "metadata": {},
     "output_type": "execute_result"
    }
   ],
   "source": [
    "#가우시안 분포로 뽑기\n",
    "e = 2*np.random.randn(3,4)+2\n",
    "e"
   ]
  },
  {
   "cell_type": "markdown",
   "id": "71519d66-d5ae-4bb3-94de-05c8ad42a949",
   "metadata": {
    "tags": []
   },
   "source": [
    "# Matrix Operations"
   ]
  },
  {
   "cell_type": "code",
   "execution_count": 128,
   "id": "562368a3-b88a-4ae7-b87e-dbfab34cb284",
   "metadata": {
    "tags": []
   },
   "outputs": [
    {
     "data": {
      "text/plain": [
       "array([[0, 1],\n",
       "       [2, 3],\n",
       "       [4, 5]])"
      ]
     },
     "execution_count": 128,
     "metadata": {},
     "output_type": "execute_result"
    }
   ],
   "source": [
    "A = np.arange(0,6).reshape(3,2)\n",
    "A"
   ]
  },
  {
   "cell_type": "code",
   "execution_count": 129,
   "id": "4ad523f0-19da-403c-98b2-42b9bc51add8",
   "metadata": {
    "tags": []
   },
   "outputs": [
    {
     "data": {
      "text/plain": [
       "array([[-0.58035575, -0.47807078,  0.95527953,  0.42256984],\n",
       "       [ 1.0226342 , -0.4236221 , -0.57606724,  0.3548313 ],\n",
       "       [-0.67673057,  0.71130863, -0.31224859,  1.02147213]])"
      ]
     },
     "execution_count": 129,
     "metadata": {},
     "output_type": "execute_result"
    }
   ],
   "source": [
    "B = np.random.randn(3,4)\n",
    "B"
   ]
  },
  {
   "cell_type": "code",
   "execution_count": 131,
   "id": "1bc0ea65-fff8-46bd-b340-4272935c766c",
   "metadata": {
    "tags": []
   },
   "outputs": [
    {
     "ename": "ValueError",
     "evalue": "operands could not be broadcast together with shapes (3,2) (3,4) ",
     "output_type": "error",
     "traceback": [
      "\u001b[1;31m---------------------------------------------------------------------------\u001b[0m",
      "\u001b[1;31mValueError\u001b[0m                                Traceback (most recent call last)",
      "Cell \u001b[1;32mIn[131], line 2\u001b[0m\n\u001b[0;32m      1\u001b[0m \u001b[38;5;66;03m#(3,2) 와 (3,4) 덧셈... 오류\u001b[39;00m\n\u001b[1;32m----> 2\u001b[0m A \u001b[38;5;241m+\u001b[39m B\n",
      "\u001b[1;31mValueError\u001b[0m: operands could not be broadcast together with shapes (3,2) (3,4) "
     ]
    }
   ],
   "source": [
    "#(3,2) 와 (3,4) 덧셈... 오류\n",
    "A + B"
   ]
  },
  {
   "cell_type": "code",
   "execution_count": 136,
   "id": "d9209c35-f915-4374-83b2-504bf16f18f9",
   "metadata": {
    "tags": []
   },
   "outputs": [],
   "source": [
    "AA = np.hstack([A,A])"
   ]
  },
  {
   "cell_type": "code",
   "execution_count": 137,
   "id": "19a7c4b2-0e64-4188-bedd-f7a2b0ace32d",
   "metadata": {
    "tags": []
   },
   "outputs": [
    {
     "data": {
      "text/plain": [
       "array([[-0.58035575,  0.52192922,  0.95527953,  1.42256984],\n",
       "       [ 3.0226342 ,  2.5763779 ,  1.42393276,  3.3548313 ],\n",
       "       [ 3.32326943,  5.71130863,  3.68775141,  6.02147213]])"
      ]
     },
     "execution_count": 137,
     "metadata": {},
     "output_type": "execute_result"
    }
   ],
   "source": [
    "AA + B"
   ]
  },
  {
   "cell_type": "code",
   "execution_count": 145,
   "id": "b4d6dd6a-e5d7-45d2-8ed5-0af9e2239ab7",
   "metadata": {
    "tags": []
   },
   "outputs": [
    {
     "data": {
      "text/plain": [
       "array([[-0.05550094,  0.58334475,  1.22219043],\n",
       "       [-0.0687908 ,  0.68676152,  1.44231384],\n",
       "       [ 1.73278076,  3.22038396,  4.70798715]])"
      ]
     },
     "execution_count": 145,
     "metadata": {},
     "output_type": "execute_result"
    }
   ],
   "source": [
    "np.matmul(B, AA.T)"
   ]
  },
  {
   "cell_type": "code",
   "execution_count": 146,
   "id": "012bd045-9b0d-4e3d-be1b-cd4e3bd70692",
   "metadata": {
    "tags": []
   },
   "outputs": [
    {
     "data": {
      "text/plain": [
       "array([[-0.05550094,  0.58334475,  1.22219043],\n",
       "       [-0.0687908 ,  0.68676152,  1.44231384],\n",
       "       [ 1.73278076,  3.22038396,  4.70798715]])"
      ]
     },
     "execution_count": 146,
     "metadata": {},
     "output_type": "execute_result"
    }
   ],
   "source": [
    "B @ AA.T"
   ]
  },
  {
   "cell_type": "code",
   "execution_count": 147,
   "id": "62153da3-8a2c-4320-a6fd-99c5bcf58bf8",
   "metadata": {
    "tags": []
   },
   "outputs": [
    {
     "data": {
      "text/plain": [
       "array([[-0.05550094,  0.58334475,  1.22219043],\n",
       "       [-0.0687908 ,  0.68676152,  1.44231384],\n",
       "       [ 1.73278076,  3.22038396,  4.70798715]])"
      ]
     },
     "execution_count": 147,
     "metadata": {},
     "output_type": "execute_result"
    }
   ],
   "source": [
    "np.dot(B, AA.T)"
   ]
  },
  {
   "cell_type": "markdown",
   "id": "60e14ae3-a29b-4997-923e-8602d6a7307d",
   "metadata": {},
   "source": [
    "단, 위의 matmul 과 dot, @는 2차원에서만 통용... 3차원부터는 결과 달라짐 교수님은 matmul선호,\n",
    "저번학기에 3개 비교해서 속도 측정했던적 있었는데 @이 가장 빨랐던걸로 기억"
   ]
  },
  {
   "cell_type": "code",
   "execution_count": 148,
   "id": "25558b40-412f-4887-a82d-b5a7433262e5",
   "metadata": {
    "tags": []
   },
   "outputs": [],
   "source": [
    "a = np.linspace(0,6,4)\n",
    "b = np.ones((4,1))"
   ]
  },
  {
   "cell_type": "code",
   "execution_count": 149,
   "id": "7faf1e18-2016-43e8-909f-6701a50f83a2",
   "metadata": {
    "tags": []
   },
   "outputs": [
    {
     "data": {
      "text/plain": [
       "array([12.])"
      ]
     },
     "execution_count": 149,
     "metadata": {},
     "output_type": "execute_result"
    }
   ],
   "source": [
    "np.matmul(a,b)"
   ]
  },
  {
   "cell_type": "markdown",
   "id": "f2015e71-b985-49bd-8c69-8726fa8e65f2",
   "metadata": {},
   "source": [
    "이때 반환은 Scalar가 아니라 array로 돌려줌. 중요. dot, @ 도 마찬가지"
   ]
  },
  {
   "cell_type": "code",
   "execution_count": 150,
   "id": "a41e9581-5f79-428d-902a-633d0390c4ae",
   "metadata": {
    "tags": []
   },
   "outputs": [],
   "source": [
    "a = np.linspace(0,6,4).reshape(1,4)\n",
    "b = np.ones((4,1))"
   ]
  },
  {
   "cell_type": "code",
   "execution_count": 151,
   "id": "fbe519c4-fd07-4742-a882-478350e7402d",
   "metadata": {
    "tags": []
   },
   "outputs": [
    {
     "data": {
      "text/plain": [
       "array([[12.]])"
      ]
     },
     "execution_count": 151,
     "metadata": {},
     "output_type": "execute_result"
    }
   ],
   "source": [
    "np.matmul(a,b)"
   ]
  },
  {
   "cell_type": "markdown",
   "id": "e5400e3c-c313-4eaf-8e3b-0d2046b82587",
   "metadata": {},
   "source": [
    "차원을 유지하면서 나오는것에 유의"
   ]
  },
  {
   "cell_type": "code",
   "execution_count": 152,
   "id": "a66653f6-d48f-4312-b751-b6c8a1f372f9",
   "metadata": {
    "tags": []
   },
   "outputs": [
    {
     "data": {
      "text/plain": [
       "12.0"
      ]
     },
     "execution_count": 152,
     "metadata": {},
     "output_type": "execute_result"
    }
   ],
   "source": [
    "#숫자만 뽑아쓰기\n",
    "np.matmul(a,b)[0][0]"
   ]
  },
  {
   "cell_type": "markdown",
   "id": "fe7ec5fa-0502-4b5f-b992-01be9ad14ea0",
   "metadata": {},
   "source": [
    "* Matrix multiplication\n",
    "    - `matmul`\n",
    "    - Generate $A\\in\\mathbb{R}^{3\\times 2}$, $a^{(i)}\\in\\mathbb{R}^{3}$\n",
    "        \\begin{align*}\n",
    "            A = \\begin{bmatrix}\n",
    "                a^{(1)} & a^{(2)}  \n",
    "            \\end{bmatrix}\n",
    "        \\end{align*}\n",
    "        - Example, \n",
    "            \\begin{align*}\n",
    "            a^{(1)} = \\begin{bmatrix}\n",
    "                3 \\\\\n",
    "                4 \\\\\n",
    "                5 \\\\\n",
    "            \\end{bmatrix}\n",
    "        \\end{align*}\n",
    "    - Generate $B\\in\\mathbb{R}^{3\\times 4}$\n",
    "        \\begin{align*}\n",
    "            B = \\begin{bmatrix}\n",
    "                b^{(1)} & b^{(2)} & b^{(3)}  & b^{(4)}  \n",
    "            \\end{bmatrix}\n",
    "        \\end{align*}\n",
    "    - $(a^{(1)})^T \\cdot b^{(2)}$"
   ]
  },
  {
   "cell_type": "markdown",
   "id": "fbd81f28-440d-4474-8613-e8e0a76de40b",
   "metadata": {},
   "source": [
    "Generate $A\\in\\mathbb{R}^{3\\times 2}$, $a^{(i)}\\in\\mathbb{R}^{3}$"
   ]
  },
  {
   "cell_type": "code",
   "execution_count": 174,
   "id": "b6ae0d13-2153-4319-bf4f-719e5d36910b",
   "metadata": {
    "tags": []
   },
   "outputs": [
    {
     "data": {
      "text/plain": [
       "array([[7, 4],\n",
       "       [1, 6],\n",
       "       [1, 3]])"
      ]
     },
     "execution_count": 174,
     "metadata": {},
     "output_type": "execute_result"
    }
   ],
   "source": [
    "#Generate A\n",
    "A = np.random.randint(0,10,(3,2))\n",
    "A"
   ]
  },
  {
   "cell_type": "markdown",
   "id": "a45ac380-a5e9-4759-b53e-294edbc67167",
   "metadata": {
    "tags": []
   },
   "source": [
    "\\begin{align*}\n",
    "            a^{(1)} = \\begin{bmatrix}\n",
    "                3 \\\\\n",
    "                4 \\\\\n",
    "                5 \\\\\n",
    "            \\end{bmatrix}\n",
    "        \\end{align*}"
   ]
  },
  {
   "cell_type": "code",
   "execution_count": 175,
   "id": "ccd7eb9b-d982-4e99-897a-49084ef1fe88",
   "metadata": {
    "tags": []
   },
   "outputs": [
    {
     "data": {
      "text/plain": [
       "array([7, 1, 1])"
      ]
     },
     "execution_count": 175,
     "metadata": {},
     "output_type": "execute_result"
    }
   ],
   "source": [
    "A[:,0]"
   ]
  },
  {
   "cell_type": "markdown",
   "id": "d9482e64-42ab-4ee6-989d-029e0e796941",
   "metadata": {},
   "source": [
    "슬라이스 하면 차원 축소해서 반환함... 이거 Colunm Vector 아님 => reshape 사용"
   ]
  },
  {
   "cell_type": "code",
   "execution_count": 179,
   "id": "0dbb0fe1-cc6c-42b5-9181-2d4ebc01066e",
   "metadata": {
    "tags": []
   },
   "outputs": [
    {
     "data": {
      "text/plain": [
       "array([[7],\n",
       "       [1],\n",
       "       [1]])"
      ]
     },
     "execution_count": 179,
     "metadata": {},
     "output_type": "execute_result"
    }
   ],
   "source": [
    "a1 = A[:,0].reshape(3,1)\n",
    "a1"
   ]
  },
  {
   "cell_type": "markdown",
   "id": "49f52318-c8dd-4695-8ff9-9f9afacadcd7",
   "metadata": {},
   "source": [
    "Generate $B\\in\\mathbb{R}^{3\\times 4}$\n",
    "        \\begin{align*}\n",
    "            B = \\begin{bmatrix}\n",
    "                b^{(1)} & b^{(2)} & b^{(3)}  & b^{(4)}  \n",
    "            \\end{bmatrix}\n",
    "        \\end{align*}"
   ]
  },
  {
   "cell_type": "code",
   "execution_count": 176,
   "id": "ae12c0c8-43ff-439c-a06b-99037d8efbc4",
   "metadata": {
    "tags": []
   },
   "outputs": [
    {
     "data": {
      "text/plain": [
       "array([[8, 1, 5, 6],\n",
       "       [0, 9, 5, 9],\n",
       "       [6, 6, 1, 9]])"
      ]
     },
     "execution_count": 176,
     "metadata": {},
     "output_type": "execute_result"
    }
   ],
   "source": [
    "B = np.random.randint(0,10,(3,4))\n",
    "B"
   ]
  },
  {
   "cell_type": "code",
   "execution_count": 181,
   "id": "e1405a0f-6a94-4f35-b7dc-2e88ec30dadc",
   "metadata": {
    "tags": []
   },
   "outputs": [
    {
     "data": {
      "text/plain": [
       "array([[1],\n",
       "       [9],\n",
       "       [6]])"
      ]
     },
     "execution_count": 181,
     "metadata": {},
     "output_type": "execute_result"
    }
   ],
   "source": [
    "b2 = B[:,1].reshape(3,1)\n",
    "b2"
   ]
  },
  {
   "cell_type": "markdown",
   "id": "fd7195ff-2594-4448-834b-d6e9561c5809",
   "metadata": {
    "tags": []
   },
   "source": [
    "$(a^{(1)})^T \\cdot b^{(2)}$"
   ]
  },
  {
   "cell_type": "code",
   "execution_count": 184,
   "id": "bd1ad4e8-591c-44f8-88a6-2ac0e6c779e5",
   "metadata": {
    "tags": []
   },
   "outputs": [
    {
     "data": {
      "text/plain": [
       "22"
      ]
     },
     "execution_count": 184,
     "metadata": {},
     "output_type": "execute_result"
    }
   ],
   "source": [
    "np.matmul(a1.T,b2)[0,0]"
   ]
  },
  {
   "cell_type": "code",
   "execution_count": 187,
   "id": "a1e6d2d2-723a-484a-8d18-8fba33390e1d",
   "metadata": {
    "tags": []
   },
   "outputs": [
    {
     "data": {
      "text/plain": [
       "array([[ 0.80664805, -1.14078916,  0.15014491],\n",
       "       [ 0.09860738,  2.23648856, -0.90093456],\n",
       "       [-2.37400912, -0.15073245, -0.38793912]])"
      ]
     },
     "execution_count": 187,
     "metadata": {},
     "output_type": "execute_result"
    }
   ],
   "source": [
    "#sum... 그냥 더하면 됨\n",
    "C = np.random.randn(3,3)\n",
    "D = np.random.randn(3,3)\n",
    "\n",
    "C + D"
   ]
  },
  {
   "cell_type": "code",
   "execution_count": 188,
   "id": "c21298d8-a769-4aa8-817b-d41c23f6a31e",
   "metadata": {
    "tags": []
   },
   "outputs": [],
   "source": [
    "a = np.array([1,2,3,4])\n",
    "b = 2*np.ones(4)"
   ]
  },
  {
   "cell_type": "code",
   "execution_count": 191,
   "id": "dbd6ea82-31cd-4b02-a595-f08a472087e2",
   "metadata": {
    "tags": []
   },
   "outputs": [
    {
     "data": {
      "text/plain": [
       "array([2., 4., 6., 8.])"
      ]
     },
     "execution_count": 191,
     "metadata": {},
     "output_type": "execute_result"
    }
   ],
   "source": [
    "#a와b를 원소별로 곱하고 싶을 때?\n",
    "c = a*b\n",
    "# * 는 행렬 곱과는 다르다.\n",
    "c"
   ]
  },
  {
   "cell_type": "code",
   "execution_count": 194,
   "id": "9eb91c2d-93ff-44a3-96b6-7238d30fdb64",
   "metadata": {
    "tags": []
   },
   "outputs": [
    {
     "data": {
      "text/plain": [
       "20.0"
      ]
     },
     "execution_count": 194,
     "metadata": {},
     "output_type": "execute_result"
    }
   ],
   "source": [
    "#sum 은 배열 내의 원소를 더한다... 1D 에선 내적\n",
    "np.sum(a*b)"
   ]
  },
  {
   "cell_type": "code",
   "execution_count": 195,
   "id": "9ce76848-5d2d-4871-9ceb-ee394f558956",
   "metadata": {
    "tags": []
   },
   "outputs": [
    {
     "data": {
      "text/plain": [
       "array([[ 3,  4,  5,  6],\n",
       "       [ 7,  8,  9, 10]])"
      ]
     },
     "execution_count": 195,
     "metadata": {},
     "output_type": "execute_result"
    }
   ],
   "source": [
    "A = np.arange(3,11, 1).reshape(2,4)\n",
    "A"
   ]
  },
  {
   "cell_type": "code",
   "execution_count": 197,
   "id": "703c4fe4-91d8-457e-9a2d-970464329a83",
   "metadata": {
    "tags": []
   },
   "outputs": [
    {
     "data": {
      "text/plain": [
       "array([10, 12, 14, 16])"
      ]
     },
     "execution_count": 197,
     "metadata": {},
     "output_type": "execute_result"
    }
   ],
   "source": [
    "#A 를 column별로 더하고 싶을때는?\n",
    "np.sum(A, axis = 0)"
   ]
  },
  {
   "cell_type": "code",
   "execution_count": 201,
   "id": "b286f09c-74fb-4898-b224-1946c931775d",
   "metadata": {
    "tags": []
   },
   "outputs": [
    {
     "data": {
      "text/plain": [
       "array([[18],\n",
       "       [34]])"
      ]
     },
     "execution_count": 201,
     "metadata": {},
     "output_type": "execute_result"
    }
   ],
   "source": [
    "#Row면\n",
    "np.sum(A, axis = 1).reshape(-1,1)"
   ]
  },
  {
   "cell_type": "markdown",
   "id": "476fda8e-f990-403c-a456-364db67efb33",
   "metadata": {},
   "source": [
    "## Broadcasting"
   ]
  },
  {
   "cell_type": "code",
   "execution_count": 208,
   "id": "41db4d4d-f5c8-4011-8c0c-7d7af98dda24",
   "metadata": {
    "tags": []
   },
   "outputs": [
    {
     "data": {
      "text/plain": [
       "array([[8, 1, 4],\n",
       "       [5, 2, 5],\n",
       "       [3, 6, 9],\n",
       "       [3, 2, 2]])"
      ]
     },
     "execution_count": 208,
     "metadata": {},
     "output_type": "execute_result"
    }
   ],
   "source": [
    "A = np.random.randint(1,10,(4,3))\n",
    "A"
   ]
  },
  {
   "cell_type": "code",
   "execution_count": 209,
   "id": "8b50c80b-64db-4062-b824-6b1a0c6ff524",
   "metadata": {
    "tags": []
   },
   "outputs": [
    {
     "data": {
      "text/plain": [
       "array([[1.],\n",
       "       [1.],\n",
       "       [1.],\n",
       "       [1.]])"
      ]
     },
     "execution_count": 209,
     "metadata": {},
     "output_type": "execute_result"
    }
   ],
   "source": [
    "B= np.ones((4,1))\n",
    "B"
   ]
  },
  {
   "cell_type": "markdown",
   "id": "4d874cc9-1d5c-4cf2-93db-80830e122c52",
   "metadata": {},
   "source": [
    "4by3행렬과 4by1행렬을 더한다? 당연히 오류가 날것이라 생각하지만 알아서 맞춰줌. => 브로드캐스팅"
   ]
  },
  {
   "cell_type": "code",
   "execution_count": 210,
   "id": "19dabdc9-7620-44a2-bf2b-c7b0e886aa57",
   "metadata": {
    "tags": []
   },
   "outputs": [
    {
     "data": {
      "text/plain": [
       "array([[ 9.,  2.,  5.],\n",
       "       [ 6.,  3.,  6.],\n",
       "       [ 4.,  7., 10.],\n",
       "       [ 4.,  3.,  3.]])"
      ]
     },
     "execution_count": 210,
     "metadata": {},
     "output_type": "execute_result"
    }
   ],
   "source": [
    "A+B"
   ]
  },
  {
   "cell_type": "markdown",
   "id": "9fc3a018-1642-4079-acd9-3a94abde5fb7",
   "metadata": {},
   "source": [
    "* 참고\n",
    "\n",
    "![This is the caption\\label{mylabel}](https://scipy-lectures.org/_images/numpy_broadcasting.png)\n",
    "https://scipy-lectures.org/_images/numpy_broadcasting.png"
   ]
  },
  {
   "cell_type": "markdown",
   "id": "2829062c-4a52-40cd-ad42-7f811d6ce353",
   "metadata": {},
   "source": [
    "곱하기도 가능"
   ]
  },
  {
   "cell_type": "code",
   "execution_count": 213,
   "id": "e41940c0-c6d9-45bf-b65d-e25b35f1aed4",
   "metadata": {
    "tags": []
   },
   "outputs": [],
   "source": [
    "B2 = B*2"
   ]
  },
  {
   "cell_type": "code",
   "execution_count": 214,
   "id": "71968455-162b-48d9-9c35-c1033822b137",
   "metadata": {
    "tags": []
   },
   "outputs": [
    {
     "data": {
      "text/plain": [
       "array([[16.,  2.,  8.],\n",
       "       [10.,  4., 10.],\n",
       "       [ 6., 12., 18.],\n",
       "       [ 6.,  4.,  4.]])"
      ]
     },
     "execution_count": 214,
     "metadata": {},
     "output_type": "execute_result"
    }
   ],
   "source": [
    "A * B2"
   ]
  },
  {
   "cell_type": "markdown",
   "id": "1c640ad9-b7cd-4c45-bad2-5881671410f9",
   "metadata": {},
   "source": [
    "+ For문 안쓰는 이유도 지난학기 직접 돌려보니 80배 이상 빠랐던걸로 기억함"
   ]
  },
  {
   "cell_type": "code",
   "execution_count": null,
   "id": "4ccd862b-62cf-47a2-8024-e159e0a9804f",
   "metadata": {},
   "outputs": [],
   "source": []
  }
 ],
 "metadata": {
  "kernelspec": {
   "display_name": "Python 3 (ipykernel)",
   "language": "python",
   "name": "python3"
  },
  "language_info": {
   "codemirror_mode": {
    "name": "ipython",
    "version": 3
   },
   "file_extension": ".py",
   "mimetype": "text/x-python",
   "name": "python",
   "nbconvert_exporter": "python",
   "pygments_lexer": "ipython3",
   "version": "3.11.5"
  }
 },
 "nbformat": 4,
 "nbformat_minor": 5
}
