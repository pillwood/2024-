{
 "cells": [
  {
   "cell_type": "markdown",
   "metadata": {},
   "source": [
    "# Loading MNIST DATA"
   ]
  },
  {
   "cell_type": "code",
   "execution_count": 1,
   "metadata": {},
   "outputs": [],
   "source": [
    "import torch\n",
    "from torch import nn\n",
    "import torch.nn.functional as F\n",
    "from torchvision import datasets, transforms\n",
    "import numpy as np\n",
    "import matplotlib.pyplot as plt\n",
    "%matplotlib inline"
   ]
  },
  {
   "cell_type": "code",
   "execution_count": 26,
   "metadata": {},
   "outputs": [],
   "source": [
    "# Define a transform to normalize the data\n",
    "transform = transforms.Compose([transforms.ToTensor()])\n",
    "# Download and load the training data\n",
    "trainset = datasets.MNIST('~/.pytorch/MNIST_data/', download=True, train=True, transform=transform)\n",
    "trainloader = torch.utils.data.DataLoader(trainset, batch_size=1000, shuffle=True)"
   ]
  },
  {
   "cell_type": "code",
   "execution_count": 29,
   "metadata": {},
   "outputs": [],
   "source": [
    "images, labels = next(iter(trainloader))"
   ]
  },
  {
   "cell_type": "code",
   "execution_count": 28,
   "metadata": {},
   "outputs": [
    {
     "data": {
      "text/plain": [
       "torch.Size([1000, 1, 28, 28])"
      ]
     },
     "execution_count": 28,
     "metadata": {},
     "output_type": "execute_result"
    }
   ],
   "source": [
    "images.shape"
   ]
  },
  {
   "cell_type": "code",
   "execution_count": 5,
   "metadata": {},
   "outputs": [
    {
     "data": {
      "text/plain": [
       "tensor(0.1275)"
      ]
     },
     "execution_count": 5,
     "metadata": {},
     "output_type": "execute_result"
    }
   ],
   "source": [
    "torch.mean(images)"
   ]
  },
  {
   "cell_type": "code",
   "execution_count": 6,
   "metadata": {},
   "outputs": [
    {
     "data": {
      "text/plain": [
       "tensor(0.3046)"
      ]
     },
     "execution_count": 6,
     "metadata": {},
     "output_type": "execute_result"
    }
   ],
   "source": [
    "torch.std(images)"
   ]
  },
  {
   "cell_type": "code",
   "execution_count": 32,
   "metadata": {},
   "outputs": [],
   "source": [
    "# Define a transform to normalize the data\n",
    "transform = transforms.Compose([transforms.ToTensor(),\n",
    "                                transforms.Normalize((0.13), (0.3)),\n",
    "                              ])\n",
    "# Download and load the training data\n",
    "trainset = datasets.MNIST('~/.pytorch/MNIST_data/', download=True, train=True, transform=transform)\n",
    "trainloader = torch.utils.data.DataLoader(trainset, batch_size=64, shuffle=True)"
   ]
  },
  {
   "cell_type": "code",
   "execution_count": 33,
   "metadata": {},
   "outputs": [],
   "source": [
    "images, labels = next(iter(trainloader))"
   ]
  },
  {
   "cell_type": "code",
   "execution_count": 35,
   "metadata": {},
   "outputs": [],
   "source": [
    "Xsample = images.reshape(images.shape[0], -1)"
   ]
  },
  {
   "cell_type": "code",
   "execution_count": 36,
   "metadata": {},
   "outputs": [
    {
     "data": {
      "text/plain": [
       "torch.Size([64, 784])"
      ]
     },
     "execution_count": 36,
     "metadata": {},
     "output_type": "execute_result"
    }
   ],
   "source": [
    "Xsample.shape"
   ]
  },
  {
   "cell_type": "markdown",
   "metadata": {},
   "source": [
    "### Problem 1: Constructing the network model\n",
    "\n",
    "`FNC` class를 정의하고 `model`을 생성하세요:\n",
    "\n",
    "- input layer\n",
    "  - number of input features를 hidden unit 128개로 선형변환 및 ReLU activation function\n",
    "- Hidden layer\n",
    "  - 128 hidden unit을 64개 hidden unit으로 선형변환 및 ReLU\n",
    "- Output layer\n",
    "  - 64개 hidden unit을 10개 class로 분류하기 위한 output layer\n",
    "  - 최종 layer의 activation은 없음 (linear layer)"
   ]
  },
  {
   "cell_type": "code",
   "execution_count": 8,
   "metadata": {},
   "outputs": [],
   "source": [
    "class FCN(nn.Module):\n",
    "    # 답작성\n",
    "    def __init__(self):\n",
    "        super().__init__()\n",
    "        self.seq = True\n",
    "    "
   ]
  },
  {
   "cell_type": "code",
   "execution_count": 37,
   "metadata": {},
   "outputs": [],
   "source": [
    "model = FCN()"
   ]
  },
  {
   "cell_type": "markdown",
   "metadata": {},
   "source": [
    "## Loss Functions in PyTorch\n",
    "\n",
    "* 다음 과정으로, Pytorch에서 loss를 어떻게 연산하는지 배워보죠\n",
    "* `nn` module에서 다양한 loss function을 제공하는데, 예를 들면 `nn.CrossEntropyLoss`와 같은 함수가 있습니다\n",
    "    * 보통 관습적으로 loss function은 `critertion`이라는 변수로 받습니다 (`loss_function`등도 당연히 사용 가능합니다)\n",
    "* 지난 시간에 MNIST 문제는 확률 분포를 output으로 받는 것이 필요하다고 (또는 자연스러운 선택 임을) 학습했습니다 \n",
    "* 이런 확률 분포를 output으로 받는 경우 대응되는 좋은 loss function이 cross entropy입니다 (이론 강의에서 cross entropy가 무엇을 의미하는지 설명한 부분을 복습 해보세요)\n",
    "\n",
    "* Cross entropy의 정의는 \n",
    "\\begin{align*}\n",
    " J(\\theta) &=-\\frac{1}{m}\\sum_{i=1}^m P(y^{(i)}|x^{(i)})\\log(Q(y^{(i)}|x^{(i)}))\n",
    "\\end{align*}\n",
    "* 위 식은 두 확률 분포의 \"거리\"를 표현하는 식이라고 배웠습니다\n",
    "* 위에서 $P(y|x)$는 $y$의 label을 one hot coding 한 vector이고 $Q(y|x)$는 softmax를 취한 network output입니다\n",
    "* One hot coding은 label이 1이면 첫번째 자리만 '1'이고 나머지는 영인 벡터, label이 $k$이면 $k$ 번째 자리만 '1'이고 나머지는 0인 벡터입니다\n",
    "\n",
    "* 예를들어서 label이 2에 대한 one hot encoding\n",
    "\\begin{align*}\n",
    "y_\\textrm{one\\_hot}(2) &= \\begin{array}{cccccc}\n",
    "[0 & 0 & 1 & \\cdots & 0]\n",
    "\\end{array}\n",
    "\\end{align*}\n",
    "\n",
    "* 위 cross entropy 식에 대응 하는 방식은, label이 2라고 가정했을 때 분포는:\n",
    "\\begin{align*}\n",
    "P(y|x) = y_\\textrm{one\\_hot}(2), \\quad P(2|x) = (y_\\textrm{one\\_hot}(2))_2\n",
    "\\end{align*}\n",
    "\n",
    "* 또한, neural network의 마지막 linear layer의 output 값이 $z$라고 할때,\n",
    "\\begin{align*}\n",
    "Q(y=2|x) = \\sigma(z_2) = \\cfrac{\\exp(z_2)}{\\sum_k^K{\\exp(z_k)}}\n",
    "\\end{align*}\n",
    "\n",
    "<img src='https://drive.google.com/thumbnail?id=17hcl4RJne65Vd17gKM8XKUTjYlqyFIY5&sz=w1000' width=\"400\" height=\"300\">\n",
    "\n",
    "* pytorch에서 이를 수행하기 위해서 criterion을 `nn.CrossEntropyLoss`로 생성하고, network의 예측 값과, 실제 label 값을 입력으로 loss를 계산합니다\n",
    "  * 본 과정은 차근차근 설명하겠습니다\n",
    "* 그 전에 Pytorch에서 cross entropy 함수를 어떻게 적용하는지 먼저 이해할 필요가 있습니다 (중요합니다!!!)\n",
    "  * [Pytorch.org `nn.CrossEntropyLoss`](https://pytorch.org/docs/stable/nn.html#torch.nn.CrossEntropyLoss)를 살펴보면\n",
    "\n",
    "> This criterion combines nn.LogSoftmax() and nn.NLLLoss() in one single class.\n",
    ">\n",
    "> The input is expected to contain scores for each class.\n",
    "\n",
    "* `nn.CrossEntropyLoss`는 `nn.LogSoftmax()`와 `nn.NLLLoss()` 하나의 class에서 수행한다고 되어 있습니다. \n",
    "* 두번째 줄에서 NLLLoss 는 negative log likelihood loss 입니다 \n",
    "\n",
    "* 이게 의미하는 바가 무엇이냐면, network의 output을 softmax function을 적용하여 출력하지 말고, softmax는 loss function에서 계산한다는 뜻입니다\n",
    "* 이렇게 구현한 이유는, 확률값이 작을 수 있어서 computation precision error를 방지하기 위해서 그냥 raw output 값을 받고, loss function에서 log(prob) 형태로 연산하도록 모듈을 구성하였습니다\n",
    "\n",
    "* 아래 코드를 보면 조금 더 이해가 될 것이라고 생각합니다\n"
   ]
  },
  {
   "cell_type": "code",
   "execution_count": 43,
   "metadata": {},
   "outputs": [
    {
     "name": "stdout",
     "output_type": "stream",
     "text": [
      "tensor(2.3240, grad_fn=<NllLossBackward0>)\n"
     ]
    }
   ],
   "source": [
    "criterion = nn.CrossEntropyLoss()\n",
    "# Get our data\n",
    "images, labels = next(iter(trainloader))\n",
    "# Flatten images\n",
    "images = images.reshape(images.shape[0], -1)\n",
    "\n",
    "# Forward pass, get our log-probabilities\n",
    "logits = model(images)\n",
    "# Calculate the loss with the logps and the labels\n",
    "loss = criterion(logits, labels)\n",
    "\n",
    "print(loss)"
   ]
  },
  {
   "cell_type": "markdown",
   "metadata": {},
   "source": [
    "### Problem 2: Implement softmax\n",
    "\n",
    "다음 `softmax` 함수를 만드세요\n",
    "\n",
    "- `softmax(x)`\n",
    "- `input`: (batchsize, num_class)의 최종 linear layer output\n",
    "- `output`: `softmax` 취한 output이 (batchsize, softmaxoutput) 차원으로 정렬\n",
    "\n",
    "- 유용할 수 있는 함수:\n",
    "    - `torch.sum`\n",
    "    - `torch.exp`\n",
    "    - broadcasting 사용 (reshape)"
   ]
  },
  {
   "cell_type": "code",
   "execution_count": 44,
   "metadata": {},
   "outputs": [
    {
     "data": {
      "text/plain": [
       "torch.Size([64, 10])"
      ]
     },
     "execution_count": 44,
     "metadata": {},
     "output_type": "execute_result"
    }
   ],
   "source": [
    "logits.shape"
   ]
  },
  {
   "cell_type": "code",
   "execution_count": 13,
   "metadata": {},
   "outputs": [],
   "source": [
    "# 답작성\n",
    "def softmax(x):\n",
    "    return True"
   ]
  },
  {
   "cell_type": "code",
   "execution_count": 52,
   "metadata": {},
   "outputs": [
    {
     "data": {
      "text/plain": [
       "tensor([[0.0902, 0.0850, 0.1000, 0.1294, 0.1150, 0.0881, 0.1037, 0.1148, 0.0864,\n",
       "         0.0873],\n",
       "        [0.0968, 0.0827, 0.1110, 0.1244, 0.1038, 0.1014, 0.1016, 0.1083, 0.0843,\n",
       "         0.0856],\n",
       "        [0.0881, 0.0750, 0.0995, 0.1228, 0.1081, 0.0948, 0.1038, 0.1266, 0.0845,\n",
       "         0.0968],\n",
       "        [0.0850, 0.0588, 0.1118, 0.1159, 0.1153, 0.0863, 0.1169, 0.1277, 0.0877,\n",
       "         0.0947],\n",
       "        [0.0958, 0.0752, 0.1095, 0.1289, 0.1012, 0.0998, 0.1025, 0.1085, 0.0870,\n",
       "         0.0915],\n",
       "        [0.0865, 0.0648, 0.1015, 0.1343, 0.1132, 0.0864, 0.1105, 0.1313, 0.0812,\n",
       "         0.0903],\n",
       "        [0.0916, 0.0705, 0.1136, 0.1307, 0.0995, 0.1076, 0.0961, 0.1140, 0.0866,\n",
       "         0.0898],\n",
       "        [0.0910, 0.0733, 0.1110, 0.1093, 0.1064, 0.1048, 0.1094, 0.1298, 0.0798,\n",
       "         0.0852],\n",
       "        [0.0864, 0.0668, 0.1205, 0.1133, 0.1165, 0.1014, 0.0956, 0.1305, 0.0850,\n",
       "         0.0840],\n",
       "        [0.0859, 0.0804, 0.1075, 0.1212, 0.1044, 0.1030, 0.1093, 0.1157, 0.0876,\n",
       "         0.0850],\n",
       "        [0.0901, 0.0608, 0.0963, 0.1362, 0.1122, 0.0955, 0.1039, 0.1299, 0.0833,\n",
       "         0.0919],\n",
       "        [0.0842, 0.0744, 0.1140, 0.1270, 0.1118, 0.0911, 0.1173, 0.1203, 0.0790,\n",
       "         0.0808],\n",
       "        [0.0872, 0.0716, 0.1164, 0.1248, 0.1015, 0.1030, 0.1097, 0.1182, 0.0843,\n",
       "         0.0833],\n",
       "        [0.0933, 0.0740, 0.1035, 0.1292, 0.1095, 0.0962, 0.0942, 0.1206, 0.0862,\n",
       "         0.0934],\n",
       "        [0.0873, 0.0799, 0.1075, 0.1312, 0.1096, 0.0986, 0.1023, 0.1078, 0.0901,\n",
       "         0.0858],\n",
       "        [0.0899, 0.0740, 0.1095, 0.1103, 0.1020, 0.1088, 0.1054, 0.1180, 0.0894,\n",
       "         0.0927],\n",
       "        [0.0922, 0.0762, 0.1018, 0.1314, 0.1097, 0.0966, 0.1076, 0.1207, 0.0726,\n",
       "         0.0911],\n",
       "        [0.0889, 0.0721, 0.1108, 0.1270, 0.1053, 0.0991, 0.1069, 0.1211, 0.0766,\n",
       "         0.0922],\n",
       "        [0.0872, 0.0717, 0.1035, 0.1200, 0.1105, 0.0996, 0.1093, 0.1241, 0.0788,\n",
       "         0.0954],\n",
       "        [0.0891, 0.0671, 0.1187, 0.1164, 0.0918, 0.0944, 0.1274, 0.1310, 0.0856,\n",
       "         0.0785],\n",
       "        [0.0865, 0.0690, 0.1172, 0.1281, 0.1068, 0.0927, 0.1070, 0.1190, 0.0871,\n",
       "         0.0865],\n",
       "        [0.0886, 0.0742, 0.1120, 0.1180, 0.1048, 0.1082, 0.1050, 0.1170, 0.0856,\n",
       "         0.0865],\n",
       "        [0.0803, 0.0661, 0.1111, 0.1308, 0.1075, 0.1021, 0.1025, 0.1237, 0.0842,\n",
       "         0.0917],\n",
       "        [0.0895, 0.0626, 0.1127, 0.1233, 0.1074, 0.0983, 0.1077, 0.1232, 0.0819,\n",
       "         0.0934],\n",
       "        [0.0894, 0.0741, 0.1194, 0.1326, 0.1058, 0.1017, 0.0973, 0.1067, 0.0861,\n",
       "         0.0868],\n",
       "        [0.0860, 0.0705, 0.1081, 0.1285, 0.1110, 0.1034, 0.0981, 0.1216, 0.0830,\n",
       "         0.0898],\n",
       "        [0.0932, 0.0857, 0.1011, 0.1206, 0.1048, 0.0999, 0.1008, 0.1203, 0.0876,\n",
       "         0.0859],\n",
       "        [0.0863, 0.0740, 0.1136, 0.1265, 0.1081, 0.1019, 0.1067, 0.1173, 0.0809,\n",
       "         0.0848],\n",
       "        [0.0976, 0.0792, 0.1077, 0.1321, 0.1056, 0.0948, 0.1064, 0.1165, 0.0801,\n",
       "         0.0801],\n",
       "        [0.0911, 0.0775, 0.0979, 0.1223, 0.1133, 0.1015, 0.0946, 0.1266, 0.0832,\n",
       "         0.0922],\n",
       "        [0.0839, 0.0734, 0.1130, 0.1134, 0.1062, 0.0971, 0.1048, 0.1157, 0.0936,\n",
       "         0.0989],\n",
       "        [0.0983, 0.0850, 0.1029, 0.1208, 0.1062, 0.0922, 0.1031, 0.1170, 0.0841,\n",
       "         0.0904],\n",
       "        [0.0874, 0.0731, 0.0907, 0.1244, 0.1147, 0.1089, 0.1015, 0.1214, 0.0804,\n",
       "         0.0975],\n",
       "        [0.0857, 0.0743, 0.1072, 0.1340, 0.1104, 0.0891, 0.1122, 0.1169, 0.0808,\n",
       "         0.0894],\n",
       "        [0.0895, 0.0873, 0.1066, 0.1167, 0.1088, 0.0979, 0.1008, 0.1235, 0.0843,\n",
       "         0.0846],\n",
       "        [0.0880, 0.0738, 0.1059, 0.1307, 0.1101, 0.0970, 0.1078, 0.1167, 0.0754,\n",
       "         0.0948],\n",
       "        [0.0842, 0.0685, 0.1019, 0.1293, 0.1204, 0.1070, 0.0911, 0.1304, 0.0743,\n",
       "         0.0928],\n",
       "        [0.0840, 0.0675, 0.1127, 0.1210, 0.1069, 0.1016, 0.0993, 0.1349, 0.0786,\n",
       "         0.0935],\n",
       "        [0.0871, 0.0789, 0.1030, 0.1268, 0.1153, 0.1066, 0.0910, 0.1173, 0.0845,\n",
       "         0.0895],\n",
       "        [0.0912, 0.0788, 0.0966, 0.1279, 0.1075, 0.0970, 0.1062, 0.1245, 0.0806,\n",
       "         0.0896],\n",
       "        [0.0874, 0.0714, 0.1097, 0.1345, 0.1047, 0.1008, 0.0956, 0.1229, 0.0800,\n",
       "         0.0929],\n",
       "        [0.0847, 0.0767, 0.1126, 0.1292, 0.1095, 0.0984, 0.1021, 0.1222, 0.0816,\n",
       "         0.0831],\n",
       "        [0.0900, 0.0755, 0.1051, 0.1201, 0.1124, 0.0920, 0.1118, 0.1315, 0.0756,\n",
       "         0.0859],\n",
       "        [0.0915, 0.0799, 0.1017, 0.1244, 0.1042, 0.1014, 0.0966, 0.1277, 0.0824,\n",
       "         0.0902],\n",
       "        [0.0883, 0.0728, 0.0971, 0.1279, 0.1137, 0.1035, 0.0947, 0.1236, 0.0814,\n",
       "         0.0970],\n",
       "        [0.0898, 0.0675, 0.1055, 0.1343, 0.1035, 0.0923, 0.1057, 0.1226, 0.0827,\n",
       "         0.0960],\n",
       "        [0.0997, 0.0698, 0.0945, 0.1237, 0.1136, 0.0809, 0.1069, 0.1290, 0.0854,\n",
       "         0.0965],\n",
       "        [0.0859, 0.0793, 0.1070, 0.1259, 0.1083, 0.0884, 0.1226, 0.1161, 0.0793,\n",
       "         0.0874],\n",
       "        [0.0875, 0.0739, 0.0967, 0.1257, 0.1167, 0.1013, 0.1058, 0.1175, 0.0799,\n",
       "         0.0951],\n",
       "        [0.0949, 0.0788, 0.1107, 0.1188, 0.1020, 0.1068, 0.0956, 0.1089, 0.0921,\n",
       "         0.0914],\n",
       "        [0.0887, 0.0726, 0.1028, 0.1267, 0.1080, 0.1081, 0.0946, 0.1171, 0.0952,\n",
       "         0.0863],\n",
       "        [0.0864, 0.0655, 0.1192, 0.1316, 0.1063, 0.0924, 0.1073, 0.1201, 0.0832,\n",
       "         0.0880],\n",
       "        [0.0865, 0.0759, 0.1095, 0.1328, 0.1174, 0.0942, 0.0970, 0.1201, 0.0851,\n",
       "         0.0815],\n",
       "        [0.0833, 0.0705, 0.1032, 0.1277, 0.1143, 0.1068, 0.1022, 0.1147, 0.0794,\n",
       "         0.0980],\n",
       "        [0.1002, 0.0834, 0.1079, 0.1191, 0.1048, 0.0940, 0.1061, 0.1127, 0.0869,\n",
       "         0.0849],\n",
       "        [0.0942, 0.0824, 0.1032, 0.1277, 0.1000, 0.1069, 0.0926, 0.1157, 0.0872,\n",
       "         0.0902],\n",
       "        [0.0774, 0.0696, 0.1041, 0.1371, 0.1180, 0.1055, 0.0978, 0.1169, 0.0866,\n",
       "         0.0870],\n",
       "        [0.0933, 0.0795, 0.0983, 0.1201, 0.1112, 0.0988, 0.0969, 0.1180, 0.0910,\n",
       "         0.0929],\n",
       "        [0.0871, 0.0725, 0.1156, 0.1262, 0.1092, 0.0938, 0.1153, 0.1125, 0.0820,\n",
       "         0.0858],\n",
       "        [0.0932, 0.0773, 0.1035, 0.1251, 0.1079, 0.0998, 0.0934, 0.1160, 0.0877,\n",
       "         0.0961],\n",
       "        [0.0840, 0.0807, 0.1088, 0.1264, 0.1146, 0.0904, 0.1027, 0.1217, 0.0814,\n",
       "         0.0894],\n",
       "        [0.0908, 0.0823, 0.1099, 0.1245, 0.1074, 0.0915, 0.1111, 0.1188, 0.0807,\n",
       "         0.0831],\n",
       "        [0.0928, 0.0771, 0.1036, 0.1262, 0.1075, 0.0967, 0.1144, 0.1127, 0.0851,\n",
       "         0.0840],\n",
       "        [0.0882, 0.0789, 0.1029, 0.1240, 0.1044, 0.0994, 0.1105, 0.1174, 0.0807,\n",
       "         0.0936]], grad_fn=<DivBackward0>)"
      ]
     },
     "execution_count": 52,
     "metadata": {},
     "output_type": "execute_result"
    }
   ],
   "source": [
    "ps = softmax(logits)"
   ]
  },
  {
   "cell_type": "markdown",
   "metadata": {},
   "source": [
    "### Problem 3: Finding the Highest probability index\n",
    "\n",
    "Sample별 예측 확률값을 통하여 가장 높은 확률 값 예측 받는 함수를 작성하세요.\n",
    "\n",
    "`get_pred(ps)`\n",
    "- `input`: sample 별 확률값을 (batchsize, class probabilities) 로 받음\n",
    "- `output`: sample 별로 가장 높은 확률값의 index를 return\n",
    "\n",
    "- 유용할 수 있는 함수\n",
    "  - `torch.argmax`\n",
    "\n"
   ]
  },
  {
   "cell_type": "code",
   "execution_count": 15,
   "metadata": {},
   "outputs": [],
   "source": [
    "def get_pred(ps):\n",
    "    # 답자가성\n",
    "    return True\n",
    "    "
   ]
  },
  {
   "cell_type": "markdown",
   "metadata": {},
   "source": [
    "# Calculating Gradients"
   ]
  },
  {
   "cell_type": "code",
   "execution_count": 73,
   "metadata": {},
   "outputs": [
    {
     "name": "stdout",
     "output_type": "stream",
     "text": [
      "Before backward pass: \n",
      " None\n",
      "After backward pass: \n",
      " tensor([[-0.0013, -0.0013, -0.0013,  ..., -0.0013, -0.0013, -0.0013],\n",
      "        [ 0.0005,  0.0005,  0.0005,  ...,  0.0005,  0.0005,  0.0005],\n",
      "        [-0.0013, -0.0013, -0.0013,  ..., -0.0013, -0.0013, -0.0013],\n",
      "        ...,\n",
      "        [ 0.0015,  0.0015,  0.0015,  ...,  0.0015,  0.0015,  0.0015],\n",
      "        [-0.0015, -0.0015, -0.0015,  ..., -0.0015, -0.0015, -0.0015],\n",
      "        [-0.0003, -0.0003, -0.0003,  ..., -0.0003, -0.0003, -0.0003]])\n"
     ]
    }
   ],
   "source": [
    "\n",
    "print('Before backward pass: \\n', model.seq[0].weight.grad)\n",
    "\n",
    "loss.backward()\n",
    "\n",
    "print('After backward pass: \\n', model.seq[0].weight.grad)"
   ]
  },
  {
   "cell_type": "markdown",
   "metadata": {},
   "source": [
    "## Training the network!\n",
    "\n",
    "\n",
    "* 자, 그럼 network parameter에 대한 loss function의 gradient를 구했으니, 이제 최적화를 할 수 있습니다\n",
    "* 최적화 기법은 SGD 이외에도 많으며 (SGD의 변형들임) [`optim` package](https://pytorch.org/docs/stable/optim.html)에서 찾아서 사용할 수 있습니다\n",
    "* 예를 들어서 SGD는 `optim.SGD`를 통해서 불러올 수 있습니다\n",
    "* 아래 예를 보죠"
   ]
  },
  {
   "cell_type": "code",
   "execution_count": 78,
   "metadata": {},
   "outputs": [],
   "source": [
    "from torch import optim\n",
    "\n",
    "# Optimizers require the parameters to optimize and a learning rate\n",
    "optimizer = optim.SGD(model.parameters(), lr=0.1)"
   ]
  },
  {
   "cell_type": "markdown",
   "metadata": {},
   "source": [
    "* model.parameters()는 우리 network의 모든 training parameter이며, lr는 learning rate 입니다\n",
    "* 자, 이제 traning에 필요한 모든 부분이 준비되었습니다\n",
    "* 전체 데이터에 대한 training은 숙제로 하고, 한 batch만 수행하는 과정을 살펴보죠\n",
    "* Pytorch에서 training의 전체 흐름은 다음과 같습니다:\n",
    "\n",
    "1. Network에서 forward pass\n",
    "2. Foward pass를 통해서 얻은 output을 활용하여 loss를 구한다\n",
    "3. Gradient를 구하기 위해서 `loss.backward()`를 실행한다\n",
    "4. Optimizer에서 weight를 한번 update 한다 (SGD의 경우 gradient에 대해서 한번 update)\n",
    "\n",
    "**[중요]**\n",
    "* 한가지 주의할 점은, 한 Parameter들에 대해서 gradient를 여러개 구해야하는 경우, (예, batch 처리) gradient 값들은 계속 추가적으로 저장됩니다\n",
    "* 한번 parameter update가 끝났으면, gradient 값을 초기화해야, 새로운 batch에 대한 새 gradient 값을 계산 합니다\n",
    "* 이를 위해서 batch 시작시에 `optimizer.zero_grad()`를 실행해줘야합니다"
   ]
  },
  {
   "cell_type": "code",
   "execution_count": 79,
   "metadata": {},
   "outputs": [
    {
     "name": "stdout",
     "output_type": "stream",
     "text": [
      "Initial weights -  Parameter containing:\n",
      "tensor([[ 0.0121, -0.0109, -0.0217,  ..., -0.0120,  0.0305,  0.0338],\n",
      "        [ 0.0350, -0.0311,  0.0100,  ..., -0.0019, -0.0179, -0.0202],\n",
      "        [ 0.0212, -0.0108,  0.0054,  ...,  0.0286,  0.0331, -0.0277],\n",
      "        ...,\n",
      "        [ 0.0307,  0.0024,  0.0241,  ...,  0.0250,  0.0177,  0.0009],\n",
      "        [ 0.0321,  0.0270, -0.0133,  ..., -0.0078,  0.0098,  0.0126],\n",
      "        [-0.0213, -0.0201,  0.0106,  ...,  0.0130,  0.0096,  0.0295]],\n",
      "       requires_grad=True)\n",
      "Gradient - Parameter containing:\n",
      "tensor([[ 0.0123, -0.0108, -0.0216,  ..., -0.0119,  0.0307,  0.0339],\n",
      "        [ 0.0349, -0.0312,  0.0099,  ..., -0.0020, -0.0180, -0.0203],\n",
      "        [ 0.0212, -0.0108,  0.0054,  ...,  0.0286,  0.0330, -0.0277],\n",
      "        ...,\n",
      "        [ 0.0304,  0.0021,  0.0239,  ...,  0.0247,  0.0174,  0.0007],\n",
      "        [ 0.0320,  0.0270, -0.0134,  ..., -0.0078,  0.0098,  0.0126],\n",
      "        [-0.0214, -0.0202,  0.0105,  ...,  0.0129,  0.0095,  0.0294]],\n",
      "       requires_grad=True)\n"
     ]
    }
   ],
   "source": [
    "print('Initial weights - ', model.seq[0].weight)\n",
    "\n",
    "images, labels = next(iter(trainloader))\n",
    "images = images.reshape(images.shape[0], -1)\n",
    "\n",
    "# Clear the gradients, do this because gradients are accumulated\n",
    "optimizer.zero_grad()\n",
    "\n",
    "# Forward pass, then backward pass, then update weights\n",
    "output = model(images)\n",
    "loss = criterion(output, labels)\n",
    "loss.backward()\n",
    "optimizer.step()\n",
    "\n",
    "\n",
    "print('Gradient -', model.seq[0].weight)"
   ]
  },
  {
   "cell_type": "code",
   "execution_count": 80,
   "metadata": {},
   "outputs": [
    {
     "name": "stdout",
     "output_type": "stream",
     "text": [
      "------ Starting epoch: 0 --------\n",
      "Training loss: 0.8049054590941492\n",
      "Training acc: 0.7882129549980164\n",
      "------ Starting epoch: 1 --------\n",
      "Training loss: 0.31882255770631435\n",
      "Training acc: 0.9073327779769897\n",
      "------ Starting epoch: 2 --------\n",
      "Training loss: 0.2645029111155696\n",
      "Training acc: 0.9233075976371765\n",
      "------ Starting epoch: 3 --------\n",
      "Training loss: 0.22801340965907585\n",
      "Training acc: 0.933851957321167\n",
      "------ Starting epoch: 4 --------\n",
      "Training loss: 0.19923080270812074\n",
      "Training acc: 0.94239741563797\n"
     ]
    }
   ],
   "source": [
    "criterion = nn.CrossEntropyLoss()\n",
    "optimizer = optim.SGD(model.parameters(), lr=0.01)\n",
    "\n",
    "epochs = 100\n",
    "loss_epoch = []\n",
    "acc_epoch = []\n",
    "\n",
    "for e in range(epochs):\n",
    "    print(f\"------ Starting epoch: {e} --------\")\n",
    "    running_loss = 0\n",
    "    running_acc = 0\n",
    "\n",
    "    for images, labels in trainloader:\n",
    "        images = images.reshape(images.shape[0], -1)\n",
    "    \n",
    "        logits = model(images)\n",
    "        loss = criterion(logits, labels)\n",
    "        \n",
    "        optimizer.zero_grad()\n",
    "        loss.backward()\n",
    "        optimizer.step()\n",
    "\n",
    "        running_loss += loss.item()\n",
    "        ps = softmax(logits)\n",
    "        pred = get_pred(ps)\n",
    "        running_acc += torch.sum(pred==labels)/labels.shape[0] \n",
    "        \n",
    "               \n",
    "    acc_epoch.append(running_acc/len(trainloader))    \n",
    "    loss_epoch.append(running_loss/len(trainloader))\n",
    "    print(f\"Training loss: {loss_epoch[e]}\")\n",
    "    print(f\"Training acc: {acc_epoch[e]}\")"
   ]
  },
  {
   "cell_type": "code",
   "execution_count": 81,
   "metadata": {},
   "outputs": [
    {
     "data": {
      "image/png": "[encoded data removed]",
      "text/plain": [
       "<Figure size 432x288 with 1 Axes>"
      ]
     },
     "metadata": {
      "needs_background": "light"
     },
     "output_type": "display_data"
    }
   ],
   "source": [
    "plt.plot(range(epochs), loss_epoch)\n",
    "plt.xlabel('epoch')\n",
    "plt.ylabel('loss')\n",
    "plt.grid()"
   ]
  },
  {
   "cell_type": "code",
   "execution_count": 82,
   "metadata": {},
   "outputs": [
    {
     "data": {
      "image/png": "[encoded data removed]",
      "text/plain": [
       "<Figure size 432x288 with 1 Axes>"
      ]
     },
     "metadata": {
      "needs_background": "light"
     },
     "output_type": "display_data"
    }
   ],
   "source": [
    "plt.plot(range(epochs), acc_epoch)\n",
    "plt.xlabel('epoch')\n",
    "plt.ylabel('accuracy')\n",
    "plt.grid()"
   ]
  },
  {
   "cell_type": "code",
   "execution_count": 83,
   "metadata": {},
   "outputs": [],
   "source": [
    "def view_classify(img, ps, version=\"MNIST\"):\n",
    "    ''' Function for viewing an image and it's predicted classes.\n",
    "    '''\n",
    "    ps = ps.data.numpy().squeeze()\n",
    "\n",
    "    fig, (ax1, ax2) = plt.subplots(figsize=(6,9), ncols=2)\n",
    "    ax1.imshow(img.resize_(1, 28, 28).numpy().squeeze())\n",
    "    ax1.axis('off')\n",
    "    ax2.barh(np.arange(10), ps)\n",
    "    ax2.set_aspect(0.1)\n",
    "    ax2.set_yticks(np.arange(10))\n",
    "    if version == \"MNIST\":\n",
    "        ax2.set_yticklabels(np.arange(10))\n",
    "    elif version == \"Fashion\":\n",
    "        ax2.set_yticklabels(['T-shirt/top',\n",
    "                            'Trouser',\n",
    "                            'Pullover',\n",
    "                            'Dress',\n",
    "                            'Coat',\n",
    "                            'Sandal',\n",
    "                            'Shirt',\n",
    "                            'Sneaker',\n",
    "                            'Bag',\n",
    "                            'Ankle Boot'], size='small');\n",
    "    ax2.set_title('Class Probability')\n",
    "    ax2.set_xlim(0, 1.1)\n",
    "\n",
    "    plt.tight_layout()"
   ]
  },
  {
   "cell_type": "code",
   "execution_count": 93,
   "metadata": {},
   "outputs": [
    {
     "data": {
      "image/png": "[encoded data removed]",
      "text/plain": [
       "<Figure size 432x648 with 2 Axes>"
      ]
     },
     "metadata": {
      "needs_background": "light"
     },
     "output_type": "display_data"
    }
   ],
   "source": [
    "images, labels = next(iter(trainloader))\n",
    "\n",
    "img = images[0].view(1, 784)\n",
    "# Turn off gradients to speed up this part\n",
    "with torch.no_grad():\n",
    "    logps = model(img)\n",
    "\n",
    "# Output of the network are log-probabilities, need to take exponential for probabilities\n",
    "ps = softmax(logps)\n",
    "view_classify(img.view(1, 28, 28), ps)"
   ]
  },
  {
   "cell_type": "code",
   "execution_count": 92,
   "metadata": {},
   "outputs": [
    {
     "data": {
      "text/plain": [
       "tensor(8)"
      ]
     },
     "execution_count": 92,
     "metadata": {},
     "output_type": "execute_result"
    }
   ],
   "source": [
    "labels[0]"
   ]
  },
  {
   "cell_type": "code",
   "execution_count": null,
   "metadata": {},
   "outputs": [],
   "source": []
  }
 ],
 "metadata": {
  "kernelspec": {
   "display_name": "Python 3 (ipykernel)",
   "language": "python",
   "name": "python3"
  },
  "language_info": {
   "codemirror_mode": {
    "name": "ipython",
    "version": 3
   },
   "file_extension": ".py",
   "mimetype": "text/x-python",
   "name": "python",
   "nbconvert_exporter": "python",
   "pygments_lexer": "ipython3",
   "version": "3.11.5"
  }
 },
 "nbformat": 4,
 "nbformat_minor": 4
}
